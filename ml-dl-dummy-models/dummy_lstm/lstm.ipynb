{
  "nbformat": 4,
  "nbformat_minor": 0,
  "metadata": {
    "colab": {
      "provenance": [],
      "gpuType": "T4"
    },
    "kernelspec": {
      "name": "python3",
      "display_name": "Python 3"
    },
    "language_info": {
      "name": "python"
    },
    "accelerator": "GPU"
  },
  "cells": [
    {
      "cell_type": "code",
      "execution_count": 230,
      "metadata": {
        "id": "GSUISnACINAb"
      },
      "outputs": [],
      "source": [
        "import re\n",
        "import os\n",
        "import random\n",
        "from tokenizers import ByteLevelBPETokenizer\n",
        "import torch\n",
        "import torch.nn as nn\n",
        "from torch.utils.data import Dataset, DataLoader\n",
        "import torch.optim as optim"
      ]
    },
    {
      "cell_type": "code",
      "source": [
        "path_to_text = \"/content/drive/MyDrive/bulgakov.txt\"\n",
        "path_to_preprocess_text = \"/content/drive/MyDrive/preprocess_bulgakov.txt\""
      ],
      "metadata": {
        "id": "jHe0-v9WJRoO"
      },
      "execution_count": 231,
      "outputs": []
    },
    {
      "cell_type": "code",
      "source": [
        "\"\"\"\n",
        "Preprocesses text by splitting sentences and saving with end-of-sentence markers.\n",
        "\"\"\"\n",
        "class TextPreprocessor():\n",
        "  def __init__(self, input_path, output_path):\n",
        "    self.input_path = input_path\n",
        "    self.output_path = output_path\n",
        "\n",
        "  def _load(self, num_chars=None):\n",
        "      with open(self.input_path, 'r', encoding='utf-8') as f:\n",
        "          text = f.read() if num_chars is None else f.read(num_chars)\n",
        "      return text\n",
        "\n",
        "  def _split(self, text):\n",
        "    sentences = re.split(r'(?<=[\\.\\!\\?])\\s+', text)\n",
        "    return [s.strip() for s in sentences if s.strip()]\n",
        "\n",
        "  def _write(self, sentences):\n",
        "    with open(self.output_path, 'w', encoding='utf-8') as f:\n",
        "        for s in sentences:\n",
        "            f.write(s + ' ' + \"<EOS>\" + '\\n')\n",
        "\n",
        "  def preprocess(self):\n",
        "    text = self._load()\n",
        "    sentences = self._split(text)\n",
        "    self._write(sentences)\n",
        "    return sentences"
      ],
      "metadata": {
        "id": "LrG7VPoWJXUG"
      },
      "execution_count": 232,
      "outputs": []
    },
    {
      "cell_type": "code",
      "source": [
        "\"\"\"\n",
        "Tokenizes text using Byte-level BPE (Byte Pair Encoding) algorithm.\n",
        "\"\"\"\n",
        "class Tokenizer():\n",
        "  def __init__(self, input_file, text):\n",
        "    self.input_file = input_file\n",
        "    self.text = text\n",
        "    self.tokenizer = self._train()\n",
        "    self.tokens = self._generate_tokens()\n",
        "    self.vocab_size = self.tokenizer.get_vocab_size()\n",
        "\n",
        "  def get_vocab_size(self):\n",
        "    return self.vocab_size\n",
        "\n",
        "  def get_tokens(self):\n",
        "    return self.tokens\n",
        "\n",
        "  def encode(self, text):\n",
        "    return self.tokenizer.encode(text)\n",
        "\n",
        "  def decode(self, ids):\n",
        "    return self.tokenizer.decode(ids)\n",
        "\n",
        "  def _train(self, vocab_size=15000, min_freq=4):\n",
        "    tokenizer = ByteLevelBPETokenizer()\n",
        "    tokenizer.train(files=[self.input_file], vocab_size=vocab_size,\n",
        "                    min_frequency=min_freq, special_tokens=[\"<EOS>\"])\n",
        "    return tokenizer\n",
        "\n",
        "  def _generate_tokens(self):\n",
        "    return self.tokenizer.encode('\\n'.join(s + ' <EOS>' for s in self.text)).ids\n",
        "\n",
        "  class NextTokenDataset(Dataset):\n",
        "        \"\"\"\n",
        "        Dataset for the task of predicting the next token:\n",
        "        given a prefix of length seq_length, predicts the token immediately after it.\n",
        "        \"\"\"\n",
        "        def __init__(self, token_ids, seq_length):\n",
        "            self.seq_length = seq_length\n",
        "            self.data = []\n",
        "            for i in range(len(token_ids) - seq_length):\n",
        "                x = token_ids[i:i+seq_length]\n",
        "                y = token_ids[i+1:i+seq_length+1]\n",
        "                self.data.append((x, y))\n",
        "\n",
        "        def __len__(self):\n",
        "            return len(self.data)\n",
        "\n",
        "        def __getitem__(self, idx):\n",
        "            x, y = self.data[idx]\n",
        "            return (\n",
        "                torch.tensor(x, dtype=torch.long),\n",
        "                torch.tensor(y, dtype=torch.long)\n",
        "            )\n",
        "\n",
        "  def _make_dataset(self, seq_length):\n",
        "        return self.NextTokenDataset(self.tokens, seq_length)\n"
      ],
      "metadata": {
        "id": "Dtl_bQpmMoXH"
      },
      "execution_count": 233,
      "outputs": []
    },
    {
      "cell_type": "code",
      "source": [
        "class DummyLSTM(nn.Module):\n",
        "    def __init__(self, vocab_size, embed_dim=32, hidden_dim=128, num_layers=2):\n",
        "        super().__init__()\n",
        "        self.embedding = nn.Embedding(vocab_size, embed_dim)\n",
        "        self.lstm = nn.LSTM(embed_dim, hidden_dim, num_layers, batch_first=True)\n",
        "        self.fc = nn.Linear(hidden_dim, vocab_size)\n",
        "\n",
        "    def forward(self, x, hidden=None):\n",
        "        emb = self.embedding(x)\n",
        "        out, hidden = self.lstm(emb, hidden)\n",
        "        logits = self.fc(out)\n",
        "        return logits, hidden"
      ],
      "metadata": {
        "id": "ceFghm5JRlxo"
      },
      "execution_count": 235,
      "outputs": []
    },
    {
      "cell_type": "code",
      "source": [
        "def train_model(model, dataloader, epochs=10, lr=1e-3, device='cuda'):\n",
        "    model.to(device)\n",
        "    optimizer = optim.Adam(model.parameters(), lr=lr)\n",
        "    criterion = nn.CrossEntropyLoss()\n",
        "\n",
        "    for epoch in range(1, epochs+1):\n",
        "        total_loss = 0.0\n",
        "        for x_batch, y_batch in dataloader:\n",
        "            x_batch, y_batch = x_batch.to(device), y_batch.to(device)\n",
        "            optimizer.zero_grad()\n",
        "            logits, _ = model(x_batch)\n",
        "            batch_size, seq_len, vocab_size = logits.size()\n",
        "            loss = criterion(\n",
        "                logits.view(batch_size*seq_len, vocab_size),\n",
        "                y_batch.view(batch_size*seq_len)\n",
        "            )\n",
        "            loss.backward()\n",
        "            optimizer.step()\n",
        "            total_loss += loss.item()\n",
        "        avg_loss = total_loss / len(dataloader)\n",
        "        print(f'Epoch {epoch}/{epochs} — Loss: {avg_loss:.4f}')"
      ],
      "metadata": {
        "id": "6ugJQXlFdBcU"
      },
      "execution_count": 236,
      "outputs": []
    },
    {
      "cell_type": "code",
      "source": [
        "def generate_lstm(model, tokenizer, prefix, max_len=50, device='cuda', strategy='greedy'):\n",
        "    model.to(device)\n",
        "    model.eval()\n",
        "    ids = tokenizer.encode(prefix).ids\n",
        "    input_ids = torch.tensor(ids, dtype=torch.long).unsqueeze(0).to(device)\n",
        "    hidden = None\n",
        "    generated = ids.copy()\n",
        "\n",
        "    for _ in range(max_len):\n",
        "        logits, hidden = model(input_ids, hidden)\n",
        "        next_logits = logits[0, -1]  # (vocab_size)\n",
        "        if strategy == 'greedy':\n",
        "            next_id = torch.argmax(next_logits).item()\n",
        "        else:\n",
        "            probs = torch.softmax(next_logits, dim=0).cpu().detach().numpy()\n",
        "            next_id = random.choices(range(len(probs)), weights=probs)[0]\n",
        "        generated.append(next_id)\n",
        "        input_ids = torch.tensor([[next_id]], dtype=torch.long).to(device)\n",
        "\n",
        "    return tokenizer.decode(generated)"
      ],
      "metadata": {
        "id": "3R4oBieKdD6I"
      },
      "execution_count": 237,
      "outputs": []
    },
    {
      "cell_type": "code",
      "source": [
        "class MarkovChain:\n",
        "    def __init__(self):\n",
        "        self.transitions = {}\n",
        "\n",
        "    def train(self, token_ids):\n",
        "        for a, b, c, d in zip(\n",
        "            token_ids,\n",
        "            token_ids[1:],\n",
        "            token_ids[2:],\n",
        "            token_ids[3:]\n",
        "        ):\n",
        "            key = (a, b, c)\n",
        "            if key not in self.transitions:\n",
        "                self.transitions[key] = {}\n",
        "            self.transitions[key][d] = self.transitions[key].get(d, 0) + 1\n",
        "\n",
        "    def next_token(self, context, strategy='greedy'):\n",
        "\n",
        "        if context not in self.transitions:\n",
        "          context = random.choice(list(self.transitions.keys()))\n",
        "\n",
        "        next_counts = self.transitions[context]\n",
        "        if strategy == 'greedy':\n",
        "            return max(next_counts, key=next_counts.get)\n",
        "        else:\n",
        "            tokens, counts = zip(*next_counts.items())\n",
        "            return random.choices(tokens, weights=counts, k=1)[0]\n",
        "\n",
        "    def generate(self, tokenizer, prefix, max_len=50, strategy='greedy'):\n",
        "        ids = tokenizer.encode(prefix).ids\n",
        "        generated = ids.copy()\n",
        "\n",
        "        if len(ids) >= 3:\n",
        "            context = tuple(ids[-3:])\n",
        "        else:\n",
        "\n",
        "            context = tuple([ids[0]] * (3 - len(ids)) + ids)\n",
        "\n",
        "        for _ in range(max_len):\n",
        "            nxt = self.next_token(context, strategy)\n",
        "            generated.append(nxt)\n",
        "\n",
        "            context = (context[1], context[2], nxt)\n",
        "\n",
        "        return tokenizer.decode(generated)\n"
      ],
      "metadata": {
        "id": "3Hq8blCRrcz5"
      },
      "execution_count": 238,
      "outputs": []
    },
    {
      "cell_type": "code",
      "source": [
        "text_preprocessor = TextPreprocessor(path_to_text, path_to_preprocess_text)\n",
        "text_preprocessed = text_preprocessor.preprocess()"
      ],
      "metadata": {
        "id": "DMJXRujNdGiQ"
      },
      "execution_count": 239,
      "outputs": []
    },
    {
      "cell_type": "code",
      "source": [
        "tokenizer = Tokenizer(path_to_preprocess_text, text_preprocessed)"
      ],
      "metadata": {
        "id": "9-roUYCVeB9j"
      },
      "execution_count": 240,
      "outputs": []
    },
    {
      "cell_type": "code",
      "source": [
        "dataset = tokenizer._make_dataset(seq_length=128)"
      ],
      "metadata": {
        "id": "wD-lVaJHecRo"
      },
      "execution_count": 241,
      "outputs": []
    },
    {
      "cell_type": "code",
      "source": [
        "dataloader = DataLoader(dataset, batch_size=128, shuffle=True)"
      ],
      "metadata": {
        "id": "5rCxL97df2Un"
      },
      "execution_count": 242,
      "outputs": []
    },
    {
      "cell_type": "code",
      "source": [
        "vocab_size = tokenizer.get_vocab_size()"
      ],
      "metadata": {
        "id": "SojKEobjfHCB"
      },
      "execution_count": 243,
      "outputs": []
    },
    {
      "cell_type": "code",
      "source": [
        "model = DummyLSTM(vocab_size)"
      ],
      "metadata": {
        "id": "x0WN9RxDfrQ_"
      },
      "execution_count": 244,
      "outputs": []
    },
    {
      "cell_type": "code",
      "source": [
        "train_model(model, dataloader, epochs=15, lr=1e-3)"
      ],
      "metadata": {
        "colab": {
          "base_uri": "https://localhost:8080/"
        },
        "id": "CkhhHHmGfviq",
        "outputId": "a28b0f99-0838-4571-ea3c-957557622596"
      },
      "execution_count": 245,
      "outputs": [
        {
          "output_type": "stream",
          "name": "stdout",
          "text": [
            "Epoch 1/15 — Loss: 6.0597\n",
            "Epoch 2/15 — Loss: 4.9713\n",
            "Epoch 3/15 — Loss: 4.4093\n",
            "Epoch 4/15 — Loss: 3.9679\n",
            "Epoch 5/15 — Loss: 3.5659\n",
            "Epoch 6/15 — Loss: 3.1922\n",
            "Epoch 7/15 — Loss: 2.8484\n",
            "Epoch 8/15 — Loss: 2.5330\n",
            "Epoch 9/15 — Loss: 2.2434\n",
            "Epoch 10/15 — Loss: 1.9790\n",
            "Epoch 11/15 — Loss: 1.7340\n",
            "Epoch 12/15 — Loss: 1.5074\n",
            "Epoch 13/15 — Loss: 1.3005\n",
            "Epoch 14/15 — Loss: 1.1145\n",
            "Epoch 15/15 — Loss: 0.9487\n"
          ]
        }
      ]
    },
    {
      "cell_type": "code",
      "source": [
        "prefix = \"Никогда и ничего не просите!\""
      ],
      "metadata": {
        "id": "b8Xi-B5VPRtF"
      },
      "execution_count": 246,
      "outputs": []
    },
    {
      "cell_type": "code",
      "source": [
        "print(\"LSTM Greedy:   \", generate_lstm(model, tokenizer, prefix, strategy='greedy'))\n",
        "print(\"LSTM Sampling:\", generate_lstm(model, tokenizer, prefix, strategy='sampling'))"
      ],
      "metadata": {
        "colab": {
          "base_uri": "https://localhost:8080/"
        },
        "id": "8Ikt7-OFipvx",
        "outputId": "e39a3f0f-03f7-4b2d-f630-be9d6dee428a"
      },
      "execution_count": 251,
      "outputs": [
        {
          "output_type": "stream",
          "name": "stdout",
          "text": [
            "LSTM Greedy:    Никогда и ничего не просите! \n",
            "– отозвался Стравинский. \n",
            "– Я – специалить, – подтвердил ученый подумение. \n",
            "– Ну, так, – сказал Пилат, – а обыкновенное желание жить\n",
            "LSTM Sampling: Никогда и ничего не просите! \n",
            "– воскликнул иностранец. \n",
            "– Длеа-поточная: «Аннушка» приго арестант и, видя, как бы нужно вчера того и, повернувшись к рукой, добавил: – Преступник! \n"
          ]
        }
      ]
    },
    {
      "cell_type": "code",
      "source": [
        "markov_chain = MarkovChain()"
      ],
      "metadata": {
        "id": "HJU0MTPorbTo"
      },
      "execution_count": 252,
      "outputs": []
    },
    {
      "cell_type": "code",
      "source": [
        "tokens = tokenizer.get_tokens()"
      ],
      "metadata": {
        "id": "gIy3xQpnrtCR"
      },
      "execution_count": 253,
      "outputs": []
    },
    {
      "cell_type": "code",
      "source": [
        "markov_chain.train(tokens)"
      ],
      "metadata": {
        "id": "O2ovOHvIrvaf"
      },
      "execution_count": 254,
      "outputs": []
    },
    {
      "cell_type": "code",
      "source": [
        "print(\"Markov Greedy:\", markov_chain.generate(tokenizer, prefix, strategy='greedy'))\n",
        "print(\"Markov Sampling:\", markov_chain.generate(tokenizer, prefix, strategy='sampling'))"
      ],
      "metadata": {
        "colab": {
          "base_uri": "https://localhost:8080/"
        },
        "id": "xqDssr3dr3Oq",
        "outputId": "ca2ba037-9dd4-4e9a-f67c-1813532b9646"
      },
      "execution_count": 270,
      "outputs": [
        {
          "output_type": "stream",
          "name": "stdout",
          "text": [
            "Markov Greedy: Никогда и ничего не просите! не бр это вы, какойб последний, швейцар ру егорад,  лит, перес дверь, пятела часа Вар лев в я-ный,,ательно выдинул противой Михаил,того Бездомный, чтоих,,», Иванович в\n",
            "Markov Sampling: Никогда и ничего не просите!икенал выходит вас будтонулоуп, Иванович июался Ивану вдками лист я\n",
            ",ней стоитно, дост тра окрош плщжм у Никанорисан в председателюонь он переводчик колонны женщина см.налсяюм чтодом но\n"
          ]
        }
      ]
    }
  ]
}